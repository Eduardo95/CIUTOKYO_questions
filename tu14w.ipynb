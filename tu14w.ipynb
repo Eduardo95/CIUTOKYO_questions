{
 "cells": [
  {
   "cell_type": "code",
   "execution_count": 1,
   "metadata": {
    "collapsed": false
   },
   "outputs": [],
   "source": [
    "def function(n):\n",
    "    if n<1:\n",
    "        return 1\n",
    "    else:\n",
    "        return ((fuction(n-1)*161+2457)%16777216)"
   ]
  },
  {
   "cell_type": "code",
   "execution_count": 2,
   "metadata": {
    "collapsed": false
   },
   "outputs": [
    {
     "data": {
      "text/plain": [
       "67108864"
      ]
     },
     "execution_count": 2,
     "metadata": {},
     "output_type": "execute_result"
    }
   ],
   "source": [
    "2**26\n"
   ]
  },
  {
   "cell_type": "code",
   "execution_count": 3,
   "metadata": {
    "collapsed": false
   },
   "outputs": [
    {
     "ename": "NameError",
     "evalue": "name 'fuction' is not defined",
     "traceback": [
      "\u001b[0;31m---------------------------------------------------------------------------\u001b[0m",
      "\u001b[0;31mNameError\u001b[0m                                 Traceback (most recent call last)",
      "\u001b[0;32m<ipython-input-3-cefdad2e93b5>\u001b[0m in \u001b[0;36m<module>\u001b[0;34m()\u001b[0m\n\u001b[0;32m----> 1\u001b[0;31m \u001b[0mfuction\u001b[0m\u001b[0;34m(\u001b[0m\u001b[0;36m2\u001b[0m\u001b[0;34m)\u001b[0m\u001b[0;34m\u001b[0m\u001b[0m\n\u001b[0m",
      "\u001b[0;31mNameError\u001b[0m: name 'fuction' is not defined"
     ],
     "output_type": "error"
    }
   ],
   "source": [
    "fuction(2)"
   ]
  },
  {
   "cell_type": "code",
   "execution_count": 4,
   "metadata": {
    "collapsed": false
   },
   "outputs": [],
   "source": [
    "def function_v2(n):\n",
    "    if n<1:\n",
    "        return 1\n",
    "    else:\n",
    "        return int(bin(function_v2(n-1)*161+2457)[-24:],2)\n",
    "        "
   ]
  },
  {
   "cell_type": "code",
   "execution_count": 5,
   "metadata": {
    "collapsed": true
   },
   "outputs": [],
   "source": [
    "def function_v3(n):\n",
    "    store=[0]*(n+1)\n",
    "    store[0]=1\n",
    "    for i in range(n):\n",
    "        store[i+1]=((store[i]*161+2457)%16777216)\n",
    "    return store[n],store"
   ]
  },
  {
   "cell_type": "code",
   "execution_count": 6,
   "metadata": {
    "collapsed": false
   },
   "outputs": [
    {
     "name": "stdout",
     "output_type": "stream",
     "text": [
      "11329\n"
     ]
    }
   ],
   "source": [
    "result,array=function_v3(1000000)\n",
    "print(result)"
   ]
  },
  {
   "cell_type": "code",
   "execution_count": 7,
   "metadata": {
    "collapsed": false
   },
   "outputs": [
    {
     "data": {
      "text/plain": [
       "'2618'"
      ]
     },
     "execution_count": 7,
     "metadata": {},
     "output_type": "execute_result"
    }
   ],
   "source": [
    "str(function_v2(1))"
   ]
  },
  {
   "cell_type": "code",
   "execution_count": 8,
   "metadata": {
    "collapsed": false
   },
   "outputs": [
    {
     "data": {
      "text/plain": [
       "'000000000000100110011001'"
      ]
     },
     "execution_count": 8,
     "metadata": {},
     "output_type": "execute_result"
    }
   ],
   "source": [
    "bin(16777216*167+2457)[-24:]"
   ]
  },
  {
   "cell_type": "code",
   "execution_count": 9,
   "metadata": {
    "collapsed": false
   },
   "outputs": [
    {
     "data": {
      "text/plain": [
       "'1'"
      ]
     },
     "execution_count": 9,
     "metadata": {},
     "output_type": "execute_result"
    }
   ],
   "source": [
    "bin(16777216*167+2457)[-1]"
   ]
  },
  {
   "cell_type": "code",
   "execution_count": 10,
   "metadata": {
    "collapsed": true
   },
   "outputs": [],
   "source": [
    "#find odd :0 single: 1\n",
    "def find_odd_or_single(num,odd_or_single):\n",
    "    result,array=function_v3(num)\n",
    "    times = 0\n",
    "    for i in range(num+1):\n",
    "        if (int(bin(array[i])[-1],2) == odd_or_single):\n",
    "            \n",
    "            times+=1\n",
    "    return times"
   ]
  },
  {
   "cell_type": "code",
   "execution_count": 11,
   "metadata": {
    "collapsed": false
   },
   "outputs": [
    {
     "name": "stdout",
     "output_type": "stream",
     "text": [
      "number of single number in the function:  50\n",
      "number of add number in the function:  50\n"
     ]
    }
   ],
   "source": [
    "print(\"number of single number in the function: \",find_odd_or_single(99,1))\n",
    "print(\"number of add number in the function: \",find_odd_or_single(99,0))"
   ]
  },
  {
   "cell_type": "code",
   "execution_count": 12,
   "metadata": {
    "collapsed": false
   },
   "outputs": [
    {
     "name": "stdout",
     "output_type": "stream",
     "text": [
      "7129435\n",
      "[1, 2618, 423955, 1150348, 659109, 5455710, 5956535, 2703280, 15800137, 10464898, 7129435]\n"
     ]
    }
   ],
   "source": [
    "result,array=function_v3(10)\n",
    "print(result)\n",
    "print(array)"
   ]
  },
  {
   "cell_type": "code",
   "execution_count": 13,
   "metadata": {
    "collapsed": true
   },
   "outputs": [],
   "source": [
    "def gfunction_v3(n):\n",
    "    store=[0]*(n+1)\n",
    "    store[0]=1\n",
    "    for i in range(n):\n",
    "        store[i+1]=((store[i]*1103515245+12345)%67108864)\n",
    "    return store[n],store"
   ]
  },
  {
   "cell_type": "code",
   "execution_count": 14,
   "metadata": {
    "collapsed": false
   },
   "outputs": [
    {
     "name": "stdout",
     "output_type": "stream",
     "text": [
      "(41857255, [1, 29785766, 41857255])\n",
      "(58844308, [1, 29785766, 41857255, 58844308])\n"
     ]
    }
   ],
   "source": [
    "print(gfunction_v3(2))\n",
    "print(gfunction_v3(3))"
   ]
  },
  {
   "cell_type": "code",
   "execution_count": null,
   "metadata": {
    "collapsed": false
   },
   "outputs": [],
   "source": [
    "def find_n_v2():\n",
    "    n = 0\n",
    "    result = 1\n",
    "    while(1):\n",
    "        result = int((bin(result*1103515245+12345)[-26:]),2)\n",
    "        n += 1\n",
    "        if (result == 1):\n",
    "            break\n",
    "    return n\n",
    "print(find_n_v2())"
   ]
  },
  {
   "cell_type": "code",
   "execution_count": null,
   "metadata": {
    "collapsed": false
   },
   "outputs": [
    {
     "name": "stdout",
     "output_type": "stream",
     "text": [
      "(29785766, [1, 29785766])\n"
     ]
    }
   ],
   "source": [
    "print(gfunction_v3(1))\n",
    "print(gfunction_v3(1+67108864))"
   ]
  },
  {
   "cell_type": "code",
   "execution_count": 34,
   "metadata": {
    "collapsed": true
   },
   "outputs": [],
   "source": [
    "def gfunction_v4(n):\n",
    "    store=1\n",
    "    for i in range(n):\n",
    "        store=int((bin(store*1103515245+12345)[-26:]),2)\n",
    "       \n",
    "    return store"
   ]
  },
  {
   "cell_type": "code",
   "execution_count": 35,
   "metadata": {
    "collapsed": false
   },
   "outputs": [
    {
     "name": "stdout",
     "output_type": "stream",
     "text": [
      "29785766\n",
      "1\n",
      "41857255\n"
     ]
    }
   ],
   "source": [
    "print(gfunction_v4(1))\n",
    "print(gfunction_v4(0))\n",
    "print(gfunction_v4(2))"
   ]
  },
  {
   "cell_type": "code",
   "execution_count": 36,
   "metadata": {
    "collapsed": false
   },
   "outputs": [
    {
     "name": "stdout",
     "output_type": "stream",
     "text": [
      "29785766\n"
     ]
    }
   ],
   "source": [
    "\n",
    "print(gfunction_v4(1+67108864))\n",
    "\n"
   ]
  },
  {
   "cell_type": "code",
   "execution_count": 37,
   "metadata": {
    "collapsed": false
   },
   "outputs": [
    {
     "name": "stdout",
     "output_type": "stream",
     "text": [
      "1\n"
     ]
    }
   ],
   "source": [
    "\n",
    "print(gfunction_v4(1+67108863))\n",
    "\n"
   ]
  },
  {
   "cell_type": "code",
   "execution_count": 45,
   "metadata": {
    "collapsed": false
   },
   "outputs": [
    {
     "name": "stdout",
     "output_type": "stream",
     "text": [
      "1\n"
     ]
    }
   ],
   "source": [
    "print(hfunction_v4(0))"
   ]
  },
  {
   "cell_type": "code",
   "execution_count": 46,
   "metadata": {
    "collapsed": true
   },
   "outputs": [],
   "source": [
    "import math\n"
   ]
  },
  {
   "cell_type": "code",
   "execution_count": 50,
   "metadata": {
    "collapsed": false
   },
   "outputs": [
    {
     "data": {
      "text/plain": [
       "30.039459414490942"
      ]
     },
     "execution_count": 50,
     "metadata": {},
     "output_type": "execute_result"
    }
   ],
   "source": [
    "math.log(1103515245,2)"
   ]
  },
  {
   "cell_type": "code",
   "execution_count": 85,
   "metadata": {
    "collapsed": false
   },
   "outputs": [],
   "source": [
    "str = bin(1103515245)"
   ]
  },
  {
   "cell_type": "code",
   "execution_count": 86,
   "metadata": {
    "collapsed": false
   },
   "outputs": [
    {
     "data": {
      "text/plain": [
       "'0b1000001110001100100111001101101'"
      ]
     },
     "execution_count": 86,
     "metadata": {},
     "output_type": "execute_result"
    }
   ],
   "source": [
    "str"
   ]
  },
  {
   "cell_type": "code",
   "execution_count": 88,
   "metadata": {
    "collapsed": false
   },
   "outputs": [
    {
     "data": {
      "text/plain": [
       "1103515245"
      ]
     },
     "execution_count": 88,
     "metadata": {},
     "output_type": "execute_result"
    }
   ],
   "source": [
    "int(\"1000001110001100100111001101101\",2)"
   ]
  },
  {
   "cell_type": "code",
   "execution_count": 72,
   "metadata": {
    "collapsed": false
   },
   "outputs": [
    {
     "data": {
      "text/plain": [
       "29773421"
      ]
     },
     "execution_count": 72,
     "metadata": {},
     "output_type": "execute_result"
    }
   ],
   "source": [
    "1103515245-2**30"
   ]
  },
  {
   "cell_type": "code",
   "execution_count": 82,
   "metadata": {
    "collapsed": false
   },
   "outputs": [
    {
     "data": {
      "text/plain": [
       "24.827521662615805"
      ]
     },
     "execution_count": 82,
     "metadata": {},
     "output_type": "execute_result"
    }
   ],
   "source": [
    "math.log(29773421,2)"
   ]
  },
  {
   "cell_type": "code",
   "execution_count": 83,
   "metadata": {
    "collapsed": false
   },
   "outputs": [
    {
     "data": {
      "text/plain": [
       "12996205"
      ]
     },
     "execution_count": 83,
     "metadata": {},
     "output_type": "execute_result"
    }
   ],
   "source": [
    "29773421-2**24"
   ]
  },
  {
   "cell_type": "code",
   "execution_count": 84,
   "metadata": {
    "collapsed": false
   },
   "outputs": [
    {
     "data": {
      "text/plain": [
       "23.63158707000533"
      ]
     },
     "execution_count": 84,
     "metadata": {},
     "output_type": "execute_result"
    }
   ],
   "source": [
    "math.log(12996205,2)"
   ]
  },
  {
   "cell_type": "code",
   "execution_count": null,
   "metadata": {
    "collapsed": true
   },
   "outputs": [],
   "source": []
  },
  {
   "cell_type": "code",
   "execution_count": 52,
   "metadata": {
    "collapsed": false
   },
   "outputs": [
    {
     "data": {
      "text/plain": [
       "13.591639216030146"
      ]
     },
     "execution_count": 52,
     "metadata": {},
     "output_type": "execute_result"
    }
   ],
   "source": [
    "math.log(12345,2)"
   ]
  },
  {
   "cell_type": "code",
   "execution_count": 53,
   "metadata": {
    "collapsed": false
   },
   "outputs": [
    {
     "data": {
      "text/plain": [
       "4153"
      ]
     },
     "execution_count": 53,
     "metadata": {},
     "output_type": "execute_result"
    }
   ],
   "source": [
    "12345-2**13"
   ]
  },
  {
   "cell_type": "code",
   "execution_count": 126,
   "metadata": {
    "collapsed": false
   },
   "outputs": [],
   "source": [
    "def hfunction_v4(n):\n",
    "    store=1\n",
    "    for i in range(n):\n",
    "        store=int((bin(store*1103515245+12345)[-36:]),2)\n",
    "       \n",
    "    return store"
   ]
  },
  {
   "cell_type": "code",
   "execution_count": 127,
   "metadata": {
    "collapsed": true
   },
   "outputs": [],
   "source": [
    "def hfunction_v5(n):\n",
    "    store=bin(1)\n",
    "    shift = \"0\"*30\n",
    "    for i in range(n):\n",
    "        store = bin(int(store+shift,2)+int(store,2)*29773421+12345)[-36:]\n",
    "    store = int(store,2)   \n",
    "    return store"
   ]
  },
  {
   "cell_type": "code",
   "execution_count": 132,
   "metadata": {
    "collapsed": true
   },
   "outputs": [],
   "source": [
    "def hfunction_v6(n,shift_list):\n",
    "    store=1\n",
    "    for j in range(n):\n",
    "        tmp = 0\n",
    "        for i in shift_list:\n",
    "            tmp = tmp + int(bin(store)+(\"0\"*i),2)\n",
    "        store = int(bin(tmp+12345)[-36:],2)\n",
    "    return store"
   ]
  },
  {
   "cell_type": "code",
   "execution_count": 133,
   "metadata": {
    "collapsed": false
   },
   "outputs": [
    {
     "name": "stdout",
     "output_type": "stream",
     "text": [
      "1\n",
      "1\n",
      "1\n",
      "1103527590\n",
      "1103527590\n",
      "1103527590\n",
      "19704754407\n",
      "19704754407\n",
      "19704754407\n",
      "26432627860\n",
      "26432627860\n",
      "26432627860\n",
      "37655124797\n",
      "37655124797\n",
      "37655124797\n"
     ]
    }
   ],
   "source": [
    "print(hfunction_v4(0))\n",
    "print(hfunction_v5(0))\n",
    "print(hfunction_v6(0,shift_list))\n",
    "print(hfunction_v4(1))\n",
    "print(hfunction_v5(1))\n",
    "print(hfunction_v6(1,shift_list))\n",
    "print(hfunction_v4(2))\n",
    "print(hfunction_v5(2))\n",
    "print(hfunction_v6(2,shift_list))\n",
    "print(hfunction_v4(3))\n",
    "print(hfunction_v5(3))\n",
    "print(hfunction_v6(3,shift_list))\n",
    "print(hfunction_v4(4))\n",
    "print(hfunction_v5(4))\n",
    "print(hfunction_v6(4,shift_list))"
   ]
  },
  {
   "cell_type": "code",
   "execution_count": 96,
   "metadata": {
    "collapsed": false
   },
   "outputs": [],
   "source": [
    "str = bin(1103515245)\n",
    "shift_list=[]\n",
    "for i in range(len(str)):\n",
    "    if str[-i]==\"1\":\n",
    "        shift_list.append(i-1)"
   ]
  },
  {
   "cell_type": "code",
   "execution_count": 97,
   "metadata": {
    "collapsed": false
   },
   "outputs": [
    {
     "data": {
      "text/plain": [
       "[0, 2, 3, 5, 6, 9, 10, 11, 14, 17, 18, 22, 23, 24, 30]"
      ]
     },
     "execution_count": 97,
     "metadata": {},
     "output_type": "execute_result"
    }
   ],
   "source": [
    "shift_list"
   ]
  },
  {
   "cell_type": "code",
   "execution_count": null,
   "metadata": {
    "collapsed": false
   },
   "outputs": [],
   "source": [
    "\n",
    "def find_n_v3(shift_list):\n",
    "    n = 0\n",
    "    result = \"1\"\n",
    "     \n",
    "    while(1):\n",
    "        tmp = 0\n",
    "        for i in shift_list:\n",
    "            tmp = tmp + int(result+(\"0\"*i),2)\n",
    "        \n",
    "        result = bin(tmp+12345)[-36:]\n",
    "        n += 1\n",
    "        #print(\"now result become: \",int(result,2))\n",
    "        if (int(result,2) == 1):\n",
    "            break\n",
    "    return n\n",
    "print(find_n_v3(shift_list))"
   ]
  },
  {
   "cell_type": "code",
   "execution_count": null,
   "metadata": {
    "collapsed": true
   },
   "outputs": [],
   "source": []
  }
 ],
 "metadata": {
  "anaconda-cloud": {},
  "kernelspec": {
   "display_name": "Python [conda env:py35]",
   "language": "python",
   "name": "conda-env-py35-py"
  },
  "language_info": {
   "codemirror_mode": {
    "name": "ipython",
    "version": 3
   },
   "file_extension": ".py",
   "mimetype": "text/x-python",
   "name": "python",
   "nbconvert_exporter": "python",
   "pygments_lexer": "ipython3",
   "version": "3.5.2"
  }
 },
 "nbformat": 4,
 "nbformat_minor": 1
}
